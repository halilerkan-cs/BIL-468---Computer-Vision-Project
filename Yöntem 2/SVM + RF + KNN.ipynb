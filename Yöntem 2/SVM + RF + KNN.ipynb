{
 "cells": [
  {
   "cell_type": "code",
   "execution_count": 1,
   "id": "2e82c52b",
   "metadata": {},
   "outputs": [],
   "source": [
    "import os\n",
    "import numpy as np\n",
    "import pandas as pd\n",
    "import matplotlib.pyplot as plt\n",
    "import shutil\n",
    "import tensorflow as tf\n",
    "import pathlib\n",
    "import PIL\n",
    "import time\n",
    "import zipfile\n",
    "import random\n",
    "from tensorflow.keras.layers import *"
   ]
  },
  {
   "cell_type": "code",
   "execution_count": 2,
   "id": "6825bcb8",
   "metadata": {},
   "outputs": [],
   "source": [
    "MAIN_PATH = r\"C:\\Users\\ŞeymaÇakmak\\Desktop\\BİL 468\\Project\\Project Code\\Dataset\\crop_dataset\\crop_dataset\"\n",
    "TEST_PATH = r\"C:\\Users\\ŞeymaÇakmak\\Desktop\\BİL 468\\Project\\Project Code\\Dataset\\test_data\"\n",
    "CLASSES = os.listdir(MAIN_PATH)\n",
    "NUM_CLASSES = len(CLASSES)\n",
    "NUM_TEST_IMAGES = len(os.listdir(os.path.join(TEST_PATH,\"test_data\")))\n",
    "HEIGHT,WIDTH = 32,32\n",
    "BATCH_SIZE = 32\n",
    "SPLIT = 0.2"
   ]
  },
  {
   "cell_type": "code",
   "execution_count": 3,
   "id": "f52fa355",
   "metadata": {},
   "outputs": [
    {
     "name": "stdout",
     "output_type": "stream",
     "text": [
      "1170\n"
     ]
    }
   ],
   "source": [
    "print(NUM_TEST_IMAGES)"
   ]
  },
  {
   "cell_type": "code",
   "execution_count": 4,
   "id": "d5f6e3c4",
   "metadata": {},
   "outputs": [
    {
     "name": "stdout",
     "output_type": "stream",
     "text": [
      "Found 2016 images belonging to 7 classes.\n",
      "Found 504 images belonging to 7 classes.\n",
      "Found 1170 images belonging to 1 classes.\n"
     ]
    }
   ],
   "source": [
    "train_datagen = tf.keras.preprocessing.image.ImageDataGenerator(\n",
    "    rescale=1./255,\n",
    "    rotation_range=20,\n",
    "    horizontal_flip=True,\n",
    "    validation_split=SPLIT)\n",
    "'''\n",
    "    width_shift_range=0.2,\n",
    "    height_shift_range=0.2,\n",
    "    '''\n",
    "train_ds = train_datagen.flow_from_directory(\n",
    "    MAIN_PATH,\n",
    "    target_size = (HEIGHT,WIDTH),\n",
    "    batch_size = BATCH_SIZE,\n",
    "    subset = \"training\",\n",
    "    class_mode = \"categorical\",\n",
    "    shuffle = True\n",
    ")\n",
    "\n",
    "val_ds = train_datagen.flow_from_directory(\n",
    "    MAIN_PATH,\n",
    "    target_size = (HEIGHT,WIDTH),\n",
    "    batch_size = BATCH_SIZE,\n",
    "    subset = \"validation\",\n",
    "    class_mode = \"categorical\",\n",
    "    shuffle = True\n",
    ")\n",
    "\n",
    "test_datagen = tf.keras.preprocessing.image.ImageDataGenerator(\n",
    "    rescale=1./255)\n",
    "test_ds = test_datagen.flow_from_directory(\n",
    "    TEST_PATH,\n",
    "    target_size = (HEIGHT,WIDTH),\n",
    "    shuffle = False\n",
    ")\n",
    "\n",
    "\n",
    "\n"
   ]
  },
  {
   "cell_type": "code",
   "execution_count": 5,
   "id": "f3d5b185",
   "metadata": {},
   "outputs": [
    {
     "name": "stdout",
     "output_type": "stream",
     "text": [
      "<keras.src.legacy.preprocessing.image.DirectoryIterator object at 0x000001E4339028B0>\n"
     ]
    },
    {
     "data": {
      "image/png": "[encoded data removed]",
      "text/plain": [
       "<Figure size 432x288 with 1 Axes>"
      ]
     },
     "metadata": {
      "needs_background": "light"
     },
     "output_type": "display_data"
    }
   ],
   "source": [
    "print(test_ds)\n",
    "import matplotlib.pyplot as plt\n",
    "\n",
    "# Test veri kümesinden bir örnek alın\n",
    "sample_image, _ = next(test_ds)\n",
    "\n",
    "# İlk görüntüyü görselleştirme\n",
    "plt.imshow(sample_image[0])\n",
    "plt.axis('off')  # Eksenleri kapatma\n",
    "plt.show()\n"
   ]
  },
  {
   "cell_type": "code",
   "execution_count": 6,
   "id": "a36dfe41",
   "metadata": {},
   "outputs": [],
   "source": [
    "# Özelliklerin ve etiketlerin alınması\n",
    "train_features, train_labels = next(train_ds)\n",
    "val_features, val_labels = next(val_ds)"
   ]
  },
  {
   "cell_type": "code",
   "execution_count": 7,
   "id": "1910fb9d",
   "metadata": {},
   "outputs": [
    {
     "name": "stdout",
     "output_type": "stream",
     "text": [
      "Found 2016 images belonging to 7 classes.\n",
      "Found 504 images belonging to 7 classes.\n",
      "Eğitim doğruluğu: 1.0\n",
      "Doğrulama doğruluğu: 0.6875\n"
     ]
    },
    {
     "data": {
      "image/png": "[encoded data removed]",
      "text/plain": [
       "<Figure size 720x576 with 2 Axes>"
      ]
     },
     "metadata": {
      "needs_background": "light"
     },
     "output_type": "display_data"
    }
   ],
   "source": [
    "import os\n",
    "import numpy as np\n",
    "import cv2\n",
    "from skimage.feature import hog\n",
    "from sklearn.preprocessing import StandardScaler\n",
    "from sklearn.svm import SVC\n",
    "from sklearn.metrics import accuracy_score\n",
    "import matplotlib.pyplot as plt\n",
    "import seaborn as sns\n",
    "\n",
    "def load_dataset(dataset_path):\n",
    "    classes = os.listdir(dataset_path)\n",
    "    num_classes = len(classes)\n",
    "    return classes, num_classes\n",
    "\n",
    "def preprocess_images(images):\n",
    "    hog_features = []\n",
    "    for image in images:\n",
    "        # Resmi 40x40 piksel boyutuna normalize etme\n",
    "        resized_image = cv2.resize(image, (40, 40))\n",
    "        \n",
    "        # Resmi gri tonlamaya dönüştürme\n",
    "        gray_image = cv2.cvtColor(resized_image, cv2.COLOR_RGB2GRAY)\n",
    "        \n",
    "        # HOG özelliklerini hesaplama\n",
    "        hog_feature = hog(gray_image, orientations=9, pixels_per_cell=(5, 5),\n",
    "                          cells_per_block=(2, 2), block_norm='L2-Hys', transform_sqrt=True)\n",
    "        \n",
    "        hog_features.append(hog_feature)\n",
    "    \n",
    "    return np.array(hog_features)\n",
    "\n",
    "def train_svm(train_features, train_labels):\n",
    "    scaler = StandardScaler()\n",
    "    train_features_scaled = scaler.fit_transform(train_features)\n",
    "    svm_model = SVC(C=1.0, kernel='linear', gamma='scale')\n",
    "    svm_model.fit(train_features_scaled, train_labels)\n",
    "    return svm_model, scaler\n",
    "\n",
    "def evaluate_svm(model, scaler, features, labels):\n",
    "    features_scaled = scaler.transform(features)\n",
    "    predictions = model.predict(features_scaled)\n",
    "    accuracy = accuracy_score(labels, predictions)\n",
    "    return accuracy, predictions\n",
    "\n",
    "def plot_confusion_matrix(true_labels, predicted_labels, classes):\n",
    "    cm = tf.math.confusion_matrix(true_labels, predicted_labels)\n",
    "    plt.figure(figsize=(10, 8))\n",
    "    sns.heatmap(cm, annot=True, fmt=\"d\", cmap=\"Blues\", xticklabels=classes, yticklabels=classes)\n",
    "    plt.xlabel('Predicted Labels')\n",
    "    plt.ylabel('True Labels')\n",
    "    plt.title('Confusion Matrix')\n",
    "    plt.show()\n",
    "\n",
    "# Ana dosya yolu ve sınıf sayısını tanımlama\n",
    "MAIN_PATH = r\"C:\\Users\\ŞeymaÇakmak\\Desktop\\BİL 468\\Project\\Project Code\\Dataset\\crop_dataset\\crop_dataset\"\n",
    "CLASSES, NUM_CLASSES = load_dataset(MAIN_PATH)\n",
    "\n",
    "# Veri yükleyici oluşturma\n",
    "train_datagen = tf.keras.preprocessing.image.ImageDataGenerator(\n",
    "    rescale=1./255,\n",
    "    rotation_range=20,\n",
    "    horizontal_flip=True,\n",
    "    validation_split=0.2\n",
    ")\n",
    "\n",
    "train_ds = train_datagen.flow_from_directory(\n",
    "    MAIN_PATH,\n",
    "    target_size=(32, 32),\n",
    "    batch_size=32,\n",
    "    subset=\"training\",\n",
    "    class_mode=\"categorical\",\n",
    "    shuffle=True\n",
    ")\n",
    "\n",
    "val_ds = train_datagen.flow_from_directory(\n",
    "    MAIN_PATH,\n",
    "    target_size=(32, 32),\n",
    "    batch_size=32,\n",
    "    subset=\"validation\",\n",
    "    class_mode=\"categorical\",\n",
    "    shuffle=True\n",
    ")\n",
    "\n",
    "# Eğitim verilerini ve etiketlerini alınması\n",
    "train_features, train_labels = next(train_ds)\n",
    "val_features, val_labels = next(val_ds)\n",
    "\n",
    "# Verilerin ön işlenmesi\n",
    "train_features_hog = preprocess_images(train_features)\n",
    "val_features_hog = preprocess_images(val_features)\n",
    "\n",
    "# Modeli eğitme\n",
    "svm_model, scaler = train_svm(train_features_hog, np.argmax(train_labels, axis=1))\n",
    "\n",
    "# Modelin değerlendirilmesi\n",
    "train_accuracy, train_predictions = evaluate_svm(svm_model, scaler, train_features_hog, np.argmax(train_labels, axis=1))\n",
    "val_accuracy, val_predictions = evaluate_svm(svm_model, scaler, val_features_hog, np.argmax(val_labels, axis=1))\n",
    "\n",
    "# Sonuçları yazdırma\n",
    "print(\"Eğitim doğruluğu:\", train_accuracy)\n",
    "print(\"Doğrulama doğruluğu:\", val_accuracy)\n",
    "\n",
    "# Doğruluk değerlerini kullanarak confusion matrix oluşturma ve görselleştirme\n",
    "plot_confusion_matrix(np.argmax(val_labels, axis=1), val_predictions, CLASSES)\n"
   ]
  },
  {
   "cell_type": "code",
   "execution_count": 8,
   "id": "d93f4a25",
   "metadata": {},
   "outputs": [
    {
     "name": "stdout",
     "output_type": "stream",
     "text": [
      "Eğitim doğruluğu (Random Forest): 1.0\n",
      "Doğrulama doğruluğu (Random Forest): 0.59375\n"
     ]
    }
   ],
   "source": [
    "from sklearn.ensemble import RandomForestClassifier\n",
    "\n",
    "def train_random_forest(train_features, train_labels):\n",
    "    random_forest_model = RandomForestClassifier(n_estimators=1000, random_state=42)\n",
    "    random_forest_model.fit(train_features, train_labels)\n",
    "    return random_forest_model\n",
    "\n",
    "# Modeli eğitme\n",
    "random_forest_model = train_random_forest(train_features_hog, np.argmax(train_labels, axis=1))\n",
    "\n",
    "# Modelin değerlendirilmesi\n",
    "train_accuracy_rf = random_forest_model.score(train_features_hog, np.argmax(train_labels, axis=1))\n",
    "val_accuracy_rf = random_forest_model.score(val_features_hog, np.argmax(val_labels, axis=1))\n",
    "\n",
    "# Sonuçları yazdırma\n",
    "print(\"Eğitim doğruluğu (Random Forest):\", train_accuracy_rf)\n",
    "print(\"Doğrulama doğruluğu (Random Forest):\", val_accuracy_rf)\n"
   ]
  },
  {
   "cell_type": "code",
   "execution_count": 9,
   "id": "e9780803",
   "metadata": {},
   "outputs": [
    {
     "data": {
      "image/png": "[encoded data removed]",
      "text/plain": [
       "<Figure size 1008x432 with 2 Axes>"
      ]
     },
     "metadata": {
      "needs_background": "light"
     },
     "output_type": "display_data"
    }
   ],
   "source": [
    "from sklearn.metrics import confusion_matrix\n",
    "import seaborn as sns\n",
    "import matplotlib.pyplot as plt\n",
    "\n",
    "# Eğitim ve doğrulama verilerini kullanarak tahminler yapma\n",
    "train_predictions_rf = random_forest_model.predict(train_features_hog)\n",
    "val_predictions_rf = random_forest_model.predict(val_features_hog)\n",
    "\n",
    "# Confusion matrix hesaplama\n",
    "train_cm_rf = confusion_matrix(np.argmax(train_labels, axis=1), train_predictions_rf)\n",
    "val_cm_rf = confusion_matrix(np.argmax(val_labels, axis=1), val_predictions_rf)\n",
    "\n",
    "# Confusion matrixleri görselleştirme\n",
    "plt.figure(figsize=(14, 6))\n",
    "\n",
    "# Eğitim seti confusion matrixi\n",
    "plt.subplot(1, 2, 1)\n",
    "sns.heatmap(train_cm_rf, annot=True, fmt='d', cmap='Greens', cbar=False)\n",
    "plt.title('Eğitim Seti Confusion Matrix (Random Forest)')\n",
    "plt.xlabel('Tahmin Edilen Etiket')\n",
    "plt.ylabel('Gerçek Etiket')\n",
    "\n",
    "# Doğrulama seti confusion matrixi\n",
    "plt.subplot(1, 2, 2)\n",
    "sns.heatmap(val_cm_rf, annot=True, fmt='d', cmap='Greens', cbar=False)\n",
    "plt.title('Doğrulama Seti Confusion Matrix (Random Forest)')\n",
    "plt.xlabel('Tahmin Edilen Etiket')\n",
    "plt.ylabel('Gerçek Etiket')\n",
    "\n",
    "plt.tight_layout()\n",
    "plt.show()\n"
   ]
  },
  {
   "cell_type": "code",
   "execution_count": 10,
   "id": "872541eb",
   "metadata": {},
   "outputs": [
    {
     "name": "stdout",
     "output_type": "stream",
     "text": [
      "En iyi parametreler (KNN): {'metric': 'manhattan', 'n_neighbors': 3, 'weights': 'distance'}\n",
      "En iyi skor (KNN): 0.8757575757575758\n",
      "Eğitim doğruluğu (KNN): 1.0\n",
      "Doğrulama doğruluğu (KNN): 0.65625\n"
     ]
    },
    {
     "name": "stderr",
     "output_type": "stream",
     "text": [
      "C:\\ProgramData\\Anaconda3\\lib\\site-packages\\sklearn\\model_selection\\_split.py:676: UserWarning: The least populated class in y has only 1 members, which is less than n_splits=3.\n",
      "  warnings.warn(\n"
     ]
    }
   ],
   "source": [
    "from sklearn.neighbors import KNeighborsClassifier\n",
    "from sklearn.model_selection import GridSearchCV  \n",
    "\n",
    "\n",
    "# KNN modeli oluşturma\n",
    "knn_model = KNeighborsClassifier()\n",
    "\n",
    "# Test edilecek hiperparametreler ve değer aralıklarını belirleme\n",
    "param_grid_knn = {\n",
    "    'n_neighbors': [3, 5, 7],        # Komşu sayısı\n",
    "    'weights': ['uniform', 'distance'],  # Komşuların ağırlıkları\n",
    "    'metric': ['euclidean', 'manhattan']  # Mesafe metriği\n",
    "}\n",
    "\n",
    "# GridSearchCV kullanarak en iyi hiperparametreleri bulma\n",
    "grid_search_knn = GridSearchCV(estimator=knn_model, param_grid=param_grid_knn, cv=3)\n",
    "grid_search_knn.fit(train_features_hog, np.argmax(train_labels, axis=1))\n",
    "\n",
    "# En iyi hiperparametreleri ve skorları yazdırma\n",
    "print(\"En iyi parametreler (KNN):\", grid_search_knn.best_params_)\n",
    "print(\"En iyi skor (KNN):\", grid_search_knn.best_score_)\n",
    "\n",
    "# En iyi parametrelerle modeli tekrar eğitme\n",
    "best_knn_model = KNeighborsClassifier(**grid_search_knn.best_params_)\n",
    "best_knn_model.fit(train_features_hog, np.argmax(train_labels, axis=1))\n",
    "\n",
    "# Modelin değerlendirilmesi\n",
    "train_accuracy_knn = best_knn_model.score(train_features_hog, np.argmax(train_labels, axis=1))\n",
    "val_accuracy_knn = best_knn_model.score(val_features_hog, np.argmax(val_labels, axis=1))\n",
    "\n",
    "# Sonuçları yazdırma\n",
    "print(\"Eğitim doğruluğu (KNN):\", train_accuracy_knn)\n",
    "print(\"Doğrulama doğruluğu (KNN):\", val_accuracy_knn)\n"
   ]
  },
  {
   "cell_type": "code",
   "execution_count": 11,
   "id": "4ee77dd9",
   "metadata": {},
   "outputs": [
    {
     "data": {
      "image/png": "[encoded data removed]",
      "text/plain": [
       "<Figure size 1008x432 with 2 Axes>"
      ]
     },
     "metadata": {
      "needs_background": "light"
     },
     "output_type": "display_data"
    }
   ],
   "source": [
    "from sklearn.metrics import confusion_matrix\n",
    "import seaborn as sns\n",
    "import matplotlib.pyplot as plt\n",
    "\n",
    "# Eğitim ve doğrulama verilerini kullanarak tahminler yapma\n",
    "train_predictions_knn = best_knn_model.predict(train_features_hog)\n",
    "val_predictions_knn = best_knn_model.predict(val_features_hog)\n",
    "\n",
    "# Confusion matrix hesaplama\n",
    "train_cm_knn = confusion_matrix(np.argmax(train_labels, axis=1), train_predictions_knn)\n",
    "val_cm_knn = confusion_matrix(np.argmax(val_labels, axis=1), val_predictions_knn)\n",
    "\n",
    "# Confusion matrixleri görselleştirme\n",
    "plt.figure(figsize=(14, 6))\n",
    "\n",
    "# Eğitim seti confusion matrixi\n",
    "plt.subplot(1, 2, 1)\n",
    "sns.heatmap(train_cm_knn, annot=True, fmt='d', cmap='Blues', cbar=False)\n",
    "plt.title('Eğitim Seti Confusion Matrix (KNN)')\n",
    "plt.xlabel('Tahmin Edilen Etiket')\n",
    "plt.ylabel('Gerçek Etiket')\n",
    "\n",
    "# Doğrulama seti confusion matrixi\n",
    "plt.subplot(1, 2, 2)\n",
    "sns.heatmap(val_cm_knn, annot=True, fmt='d', cmap='Blues', cbar=False)\n",
    "plt.title('Doğrulama Seti Confusion Matrix (KNN)')\n",
    "plt.xlabel('Tahmin Edilen Etiket')\n",
    "plt.ylabel('Gerçek Etiket')\n",
    "\n",
    "plt.tight_layout()\n",
    "plt.show()\n"
   ]
  },
  {
   "cell_type": "code",
   "execution_count": 21,
   "id": "6c54683f",
   "metadata": {},
   "outputs": [],
   "source": [
    "import os\n",
    "import cv2\n",
    "import numpy as np\n",
    "\n",
    "def load_test_data_and_labels(data_path, labels_path):\n",
    "    test_features = []\n",
    "    test_labels = []\n",
    "\n",
    "    # Etiket dosyasını okuma\n",
    "    with open(labels_path, 'r') as file:\n",
    "        next(file)  # Başlık satırını atla\n",
    "        for line in file:\n",
    "            # Satırı virgülle ayırarak parçala ve etiketi al\n",
    "            image_filename, label = line.strip().split(',')\n",
    "            label = int(label)\n",
    "\n",
    "            # Görüntü dosyasının tam yolunu oluştur\n",
    "            image_path = os.path.join(data_path, image_filename)\n",
    "\n",
    "            # Görüntüyü oku\n",
    "            image = cv2.imread(image_path)\n",
    "\n",
    "            # Görüntü yoksa veya boyutları uygun değilse atla\n",
    "            if image is None or image.shape[0] != 32 or image.shape[1] != 32:\n",
    "                continue\n",
    "\n",
    "            # Görüntüyü normalize et ve özellikler listesine ekle\n",
    "            image = image / 255.0\n",
    "            test_features.append(image)\n",
    "            test_labels.append(label)\n",
    "\n",
    "    # Liste verilerini NumPy dizisine dönüştür\n",
    "    test_features = np.array(test_features)\n",
    "    test_labels = np.array(test_labels)\n",
    "\n",
    "    return test_features, test_labels\n"
   ]
  },
  {
   "cell_type": "code",
   "execution_count": 22,
   "id": "03c52aac",
   "metadata": {},
   "outputs": [
    {
     "name": "stdout",
     "output_type": "stream",
     "text": [
      "[]\n"
     ]
    }
   ],
   "source": [
    "# Test verilerini ve etiketlerini yükleme\n",
    "test_data_path = r'C:\\Users\\ŞeymaÇakmak\\Desktop\\BİL 468\\Project\\Project Code\\Dataset\\test_data\\test_data'\n",
    "test_labels_path = r'C:\\Users\\ŞeymaÇakmak\\Desktop\\BİL 468\\Project\\Project Code\\Dataset\\test_labels.csv'\n",
    "test_features, test_labels = load_test_data_and_labels(test_data_path, test_labels_path)\n",
    "print(test_features_hog)\n",
    "# Test verilerini HOG özelliklerine dönüştürme\n",
    "test_features_hog = preprocess_images(test_features)"
   ]
  },
  {
   "cell_type": "code",
   "execution_count": 19,
   "id": "581a9d73",
   "metadata": {},
   "outputs": [
    {
     "name": "stdout",
     "output_type": "stream",
     "text": [
      "[]\n"
     ]
    }
   ],
   "source": [
    "print(test_features_hog)"
   ]
  },
  {
   "cell_type": "code",
   "execution_count": 17,
   "id": "e88fe501",
   "metadata": {},
   "outputs": [],
   "source": [
    "def test_random_forest(model, test_features, test_labels):\n",
    "    # Test verilerinin doğruluğunu hesaplama\n",
    "    test_accuracy = model.score(test_features, test_labels)\n",
    "    print(\"Test doğruluğu (Random Forest):\", test_accuracy)\n",
    "    return test_accuracy\n"
   ]
  },
  {
   "cell_type": "code",
   "execution_count": 18,
   "id": "7418d455",
   "metadata": {},
   "outputs": [
    {
     "ename": "ValueError",
     "evalue": "Expected 2D array, got 1D array instead:\narray=[].\nReshape your data either using array.reshape(-1, 1) if your data has a single feature or array.reshape(1, -1) if it contains a single sample.",
     "output_type": "error",
     "traceback": [
      "\u001b[1;31m---------------------------------------------------------------------------\u001b[0m",
      "\u001b[1;31mValueError\u001b[0m                                Traceback (most recent call last)",
      "Input \u001b[1;32mIn [18]\u001b[0m, in \u001b[0;36m<cell line: 1>\u001b[1;34m()\u001b[0m\n\u001b[1;32m----> 1\u001b[0m test_accuracy_rf \u001b[38;5;241m=\u001b[39m \u001b[43mtest_random_forest\u001b[49m\u001b[43m(\u001b[49m\u001b[43mrandom_forest_model\u001b[49m\u001b[43m,\u001b[49m\u001b[43m \u001b[49m\u001b[43mtest_features_hog\u001b[49m\u001b[43m,\u001b[49m\u001b[43m \u001b[49m\u001b[43mnp\u001b[49m\u001b[38;5;241;43m.\u001b[39;49m\u001b[43margmax\u001b[49m\u001b[43m(\u001b[49m\u001b[43mtest_labels\u001b[49m\u001b[43m)\u001b[49m\u001b[43m)\u001b[49m\n",
      "Input \u001b[1;32mIn [17]\u001b[0m, in \u001b[0;36mtest_random_forest\u001b[1;34m(model, test_features, test_labels)\u001b[0m\n\u001b[0;32m      1\u001b[0m \u001b[38;5;28;01mdef\u001b[39;00m \u001b[38;5;21mtest_random_forest\u001b[39m(model, test_features, test_labels):\n\u001b[0;32m      2\u001b[0m     \u001b[38;5;66;03m# Test verilerinin doğruluğunu hesaplama\u001b[39;00m\n\u001b[1;32m----> 3\u001b[0m     test_accuracy \u001b[38;5;241m=\u001b[39m \u001b[43mmodel\u001b[49m\u001b[38;5;241;43m.\u001b[39;49m\u001b[43mscore\u001b[49m\u001b[43m(\u001b[49m\u001b[43mtest_features\u001b[49m\u001b[43m,\u001b[49m\u001b[43m \u001b[49m\u001b[43mtest_labels\u001b[49m\u001b[43m)\u001b[49m\n\u001b[0;32m      4\u001b[0m     \u001b[38;5;28mprint\u001b[39m(\u001b[38;5;124m\"\u001b[39m\u001b[38;5;124mTest doğruluğu (Random Forest):\u001b[39m\u001b[38;5;124m\"\u001b[39m, test_accuracy)\n\u001b[0;32m      5\u001b[0m     \u001b[38;5;28;01mreturn\u001b[39;00m test_accuracy\n",
      "File \u001b[1;32mC:\\ProgramData\\Anaconda3\\lib\\site-packages\\sklearn\\base.py:651\u001b[0m, in \u001b[0;36mClassifierMixin.score\u001b[1;34m(self, X, y, sample_weight)\u001b[0m\n\u001b[0;32m    626\u001b[0m \u001b[38;5;250m\u001b[39m\u001b[38;5;124;03m\"\"\"\u001b[39;00m\n\u001b[0;32m    627\u001b[0m \u001b[38;5;124;03mReturn the mean accuracy on the given test data and labels.\u001b[39;00m\n\u001b[0;32m    628\u001b[0m \n\u001b[1;32m   (...)\u001b[0m\n\u001b[0;32m    647\u001b[0m \u001b[38;5;124;03m    Mean accuracy of ``self.predict(X)`` wrt. `y`.\u001b[39;00m\n\u001b[0;32m    648\u001b[0m \u001b[38;5;124;03m\"\"\"\u001b[39;00m\n\u001b[0;32m    649\u001b[0m \u001b[38;5;28;01mfrom\u001b[39;00m \u001b[38;5;21;01m.\u001b[39;00m\u001b[38;5;21;01mmetrics\u001b[39;00m \u001b[38;5;28;01mimport\u001b[39;00m accuracy_score\n\u001b[1;32m--> 651\u001b[0m \u001b[38;5;28;01mreturn\u001b[39;00m accuracy_score(y, \u001b[38;5;28;43mself\u001b[39;49m\u001b[38;5;241;43m.\u001b[39;49m\u001b[43mpredict\u001b[49m\u001b[43m(\u001b[49m\u001b[43mX\u001b[49m\u001b[43m)\u001b[49m, sample_weight\u001b[38;5;241m=\u001b[39msample_weight)\n",
      "File \u001b[1;32mC:\\ProgramData\\Anaconda3\\lib\\site-packages\\sklearn\\ensemble\\_forest.py:808\u001b[0m, in \u001b[0;36mForestClassifier.predict\u001b[1;34m(self, X)\u001b[0m\n\u001b[0;32m    787\u001b[0m \u001b[38;5;28;01mdef\u001b[39;00m \u001b[38;5;21mpredict\u001b[39m(\u001b[38;5;28mself\u001b[39m, X):\n\u001b[0;32m    788\u001b[0m \u001b[38;5;250m    \u001b[39m\u001b[38;5;124;03m\"\"\"\u001b[39;00m\n\u001b[0;32m    789\u001b[0m \u001b[38;5;124;03m    Predict class for X.\u001b[39;00m\n\u001b[0;32m    790\u001b[0m \n\u001b[1;32m   (...)\u001b[0m\n\u001b[0;32m    806\u001b[0m \u001b[38;5;124;03m        The predicted classes.\u001b[39;00m\n\u001b[0;32m    807\u001b[0m \u001b[38;5;124;03m    \"\"\"\u001b[39;00m\n\u001b[1;32m--> 808\u001b[0m     proba \u001b[38;5;241m=\u001b[39m \u001b[38;5;28;43mself\u001b[39;49m\u001b[38;5;241;43m.\u001b[39;49m\u001b[43mpredict_proba\u001b[49m\u001b[43m(\u001b[49m\u001b[43mX\u001b[49m\u001b[43m)\u001b[49m\n\u001b[0;32m    810\u001b[0m     \u001b[38;5;28;01mif\u001b[39;00m \u001b[38;5;28mself\u001b[39m\u001b[38;5;241m.\u001b[39mn_outputs_ \u001b[38;5;241m==\u001b[39m \u001b[38;5;241m1\u001b[39m:\n\u001b[0;32m    811\u001b[0m         \u001b[38;5;28;01mreturn\u001b[39;00m \u001b[38;5;28mself\u001b[39m\u001b[38;5;241m.\u001b[39mclasses_\u001b[38;5;241m.\u001b[39mtake(np\u001b[38;5;241m.\u001b[39margmax(proba, axis\u001b[38;5;241m=\u001b[39m\u001b[38;5;241m1\u001b[39m), axis\u001b[38;5;241m=\u001b[39m\u001b[38;5;241m0\u001b[39m)\n",
      "File \u001b[1;32mC:\\ProgramData\\Anaconda3\\lib\\site-packages\\sklearn\\ensemble\\_forest.py:850\u001b[0m, in \u001b[0;36mForestClassifier.predict_proba\u001b[1;34m(self, X)\u001b[0m\n\u001b[0;32m    848\u001b[0m check_is_fitted(\u001b[38;5;28mself\u001b[39m)\n\u001b[0;32m    849\u001b[0m \u001b[38;5;66;03m# Check data\u001b[39;00m\n\u001b[1;32m--> 850\u001b[0m X \u001b[38;5;241m=\u001b[39m \u001b[38;5;28;43mself\u001b[39;49m\u001b[38;5;241;43m.\u001b[39;49m\u001b[43m_validate_X_predict\u001b[49m\u001b[43m(\u001b[49m\u001b[43mX\u001b[49m\u001b[43m)\u001b[49m\n\u001b[0;32m    852\u001b[0m \u001b[38;5;66;03m# Assign chunk of trees to jobs\u001b[39;00m\n\u001b[0;32m    853\u001b[0m n_jobs, _, _ \u001b[38;5;241m=\u001b[39m _partition_estimators(\u001b[38;5;28mself\u001b[39m\u001b[38;5;241m.\u001b[39mn_estimators, \u001b[38;5;28mself\u001b[39m\u001b[38;5;241m.\u001b[39mn_jobs)\n",
      "File \u001b[1;32mC:\\ProgramData\\Anaconda3\\lib\\site-packages\\sklearn\\ensemble\\_forest.py:579\u001b[0m, in \u001b[0;36mBaseForest._validate_X_predict\u001b[1;34m(self, X)\u001b[0m\n\u001b[0;32m    576\u001b[0m \u001b[38;5;250m\u001b[39m\u001b[38;5;124;03m\"\"\"\u001b[39;00m\n\u001b[0;32m    577\u001b[0m \u001b[38;5;124;03mValidate X whenever one tries to predict, apply, predict_proba.\"\"\"\u001b[39;00m\n\u001b[0;32m    578\u001b[0m check_is_fitted(\u001b[38;5;28mself\u001b[39m)\n\u001b[1;32m--> 579\u001b[0m X \u001b[38;5;241m=\u001b[39m \u001b[38;5;28;43mself\u001b[39;49m\u001b[38;5;241;43m.\u001b[39;49m\u001b[43m_validate_data\u001b[49m\u001b[43m(\u001b[49m\u001b[43mX\u001b[49m\u001b[43m,\u001b[49m\u001b[43m \u001b[49m\u001b[43mdtype\u001b[49m\u001b[38;5;241;43m=\u001b[39;49m\u001b[43mDTYPE\u001b[49m\u001b[43m,\u001b[49m\u001b[43m \u001b[49m\u001b[43maccept_sparse\u001b[49m\u001b[38;5;241;43m=\u001b[39;49m\u001b[38;5;124;43m\"\u001b[39;49m\u001b[38;5;124;43mcsr\u001b[39;49m\u001b[38;5;124;43m\"\u001b[39;49m\u001b[43m,\u001b[49m\u001b[43m \u001b[49m\u001b[43mreset\u001b[49m\u001b[38;5;241;43m=\u001b[39;49m\u001b[38;5;28;43;01mFalse\u001b[39;49;00m\u001b[43m)\u001b[49m\n\u001b[0;32m    580\u001b[0m \u001b[38;5;28;01mif\u001b[39;00m issparse(X) \u001b[38;5;129;01mand\u001b[39;00m (X\u001b[38;5;241m.\u001b[39mindices\u001b[38;5;241m.\u001b[39mdtype \u001b[38;5;241m!=\u001b[39m np\u001b[38;5;241m.\u001b[39mintc \u001b[38;5;129;01mor\u001b[39;00m X\u001b[38;5;241m.\u001b[39mindptr\u001b[38;5;241m.\u001b[39mdtype \u001b[38;5;241m!=\u001b[39m np\u001b[38;5;241m.\u001b[39mintc):\n\u001b[0;32m    581\u001b[0m     \u001b[38;5;28;01mraise\u001b[39;00m \u001b[38;5;167;01mValueError\u001b[39;00m(\u001b[38;5;124m\"\u001b[39m\u001b[38;5;124mNo support for np.int64 index based sparse matrices\u001b[39m\u001b[38;5;124m\"\u001b[39m)\n",
      "File \u001b[1;32mC:\\ProgramData\\Anaconda3\\lib\\site-packages\\sklearn\\base.py:566\u001b[0m, in \u001b[0;36mBaseEstimator._validate_data\u001b[1;34m(self, X, y, reset, validate_separately, **check_params)\u001b[0m\n\u001b[0;32m    564\u001b[0m     \u001b[38;5;28;01mraise\u001b[39;00m \u001b[38;5;167;01mValueError\u001b[39;00m(\u001b[38;5;124m\"\u001b[39m\u001b[38;5;124mValidation should be done on X, y or both.\u001b[39m\u001b[38;5;124m\"\u001b[39m)\n\u001b[0;32m    565\u001b[0m \u001b[38;5;28;01melif\u001b[39;00m \u001b[38;5;129;01mnot\u001b[39;00m no_val_X \u001b[38;5;129;01mand\u001b[39;00m no_val_y:\n\u001b[1;32m--> 566\u001b[0m     X \u001b[38;5;241m=\u001b[39m check_array(X, \u001b[38;5;241m*\u001b[39m\u001b[38;5;241m*\u001b[39mcheck_params)\n\u001b[0;32m    567\u001b[0m     out \u001b[38;5;241m=\u001b[39m X\n\u001b[0;32m    568\u001b[0m \u001b[38;5;28;01melif\u001b[39;00m no_val_X \u001b[38;5;129;01mand\u001b[39;00m \u001b[38;5;129;01mnot\u001b[39;00m no_val_y:\n",
      "File \u001b[1;32mC:\\ProgramData\\Anaconda3\\lib\\site-packages\\sklearn\\utils\\validation.py:769\u001b[0m, in \u001b[0;36mcheck_array\u001b[1;34m(array, accept_sparse, accept_large_sparse, dtype, order, copy, force_all_finite, ensure_2d, allow_nd, ensure_min_samples, ensure_min_features, estimator)\u001b[0m\n\u001b[0;32m    767\u001b[0m     \u001b[38;5;66;03m# If input is 1D raise error\u001b[39;00m\n\u001b[0;32m    768\u001b[0m     \u001b[38;5;28;01mif\u001b[39;00m array\u001b[38;5;241m.\u001b[39mndim \u001b[38;5;241m==\u001b[39m \u001b[38;5;241m1\u001b[39m:\n\u001b[1;32m--> 769\u001b[0m         \u001b[38;5;28;01mraise\u001b[39;00m \u001b[38;5;167;01mValueError\u001b[39;00m(\n\u001b[0;32m    770\u001b[0m             \u001b[38;5;124m\"\u001b[39m\u001b[38;5;124mExpected 2D array, got 1D array instead:\u001b[39m\u001b[38;5;130;01m\\n\u001b[39;00m\u001b[38;5;124marray=\u001b[39m\u001b[38;5;132;01m{}\u001b[39;00m\u001b[38;5;124m.\u001b[39m\u001b[38;5;130;01m\\n\u001b[39;00m\u001b[38;5;124m\"\u001b[39m\n\u001b[0;32m    771\u001b[0m             \u001b[38;5;124m\"\u001b[39m\u001b[38;5;124mReshape your data either using array.reshape(-1, 1) if \u001b[39m\u001b[38;5;124m\"\u001b[39m\n\u001b[0;32m    772\u001b[0m             \u001b[38;5;124m\"\u001b[39m\u001b[38;5;124myour data has a single feature or array.reshape(1, -1) \u001b[39m\u001b[38;5;124m\"\u001b[39m\n\u001b[0;32m    773\u001b[0m             \u001b[38;5;124m\"\u001b[39m\u001b[38;5;124mif it contains a single sample.\u001b[39m\u001b[38;5;124m\"\u001b[39m\u001b[38;5;241m.\u001b[39mformat(array)\n\u001b[0;32m    774\u001b[0m         )\n\u001b[0;32m    776\u001b[0m \u001b[38;5;66;03m# make sure we actually converted to numeric:\u001b[39;00m\n\u001b[0;32m    777\u001b[0m \u001b[38;5;28;01mif\u001b[39;00m dtype_numeric \u001b[38;5;129;01mand\u001b[39;00m array\u001b[38;5;241m.\u001b[39mdtype\u001b[38;5;241m.\u001b[39mkind \u001b[38;5;129;01min\u001b[39;00m \u001b[38;5;124m\"\u001b[39m\u001b[38;5;124mOUSV\u001b[39m\u001b[38;5;124m\"\u001b[39m:\n",
      "\u001b[1;31mValueError\u001b[0m: Expected 2D array, got 1D array instead:\narray=[].\nReshape your data either using array.reshape(-1, 1) if your data has a single feature or array.reshape(1, -1) if it contains a single sample."
     ]
    }
   ],
   "source": [
    "test_accuracy_rf = test_random_forest(random_forest_model, test_features_hog, np.argmax(test_labels))\n"
   ]
  },
  {
   "cell_type": "code",
   "execution_count": 15,
   "id": "c69665a0",
   "metadata": {},
   "outputs": [
    {
     "ename": "KeyboardInterrupt",
     "evalue": "",
     "output_type": "error",
     "traceback": [
      "\u001b[1;31m---------------------------------------------------------------------------\u001b[0m",
      "\u001b[1;31mKeyboardInterrupt\u001b[0m                         Traceback (most recent call last)",
      "Input \u001b[1;32mIn [15]\u001b[0m, in \u001b[0;36m<cell line: 4>\u001b[1;34m()\u001b[0m\n\u001b[0;32m      2\u001b[0m test_data_path \u001b[38;5;241m=\u001b[39m \u001b[38;5;124mr\u001b[39m\u001b[38;5;124m'\u001b[39m\u001b[38;5;124mC:\u001b[39m\u001b[38;5;124m\\\u001b[39m\u001b[38;5;124mUsers\u001b[39m\u001b[38;5;124m\\\u001b[39m\u001b[38;5;124mŞeymaÇakmak\u001b[39m\u001b[38;5;124m\\\u001b[39m\u001b[38;5;124mDesktop\u001b[39m\u001b[38;5;124m\\\u001b[39m\u001b[38;5;124mBİL 468\u001b[39m\u001b[38;5;124m\\\u001b[39m\u001b[38;5;124mProject\u001b[39m\u001b[38;5;124m\\\u001b[39m\u001b[38;5;124mProject Code\u001b[39m\u001b[38;5;124m\\\u001b[39m\u001b[38;5;124mDataset\u001b[39m\u001b[38;5;124m\\\u001b[39m\u001b[38;5;124mtest_data\u001b[39m\u001b[38;5;124m\\\u001b[39m\u001b[38;5;124mtest_data\u001b[39m\u001b[38;5;124m'\u001b[39m\n\u001b[0;32m      3\u001b[0m test_labels_path \u001b[38;5;241m=\u001b[39m \u001b[38;5;124mr\u001b[39m\u001b[38;5;124m'\u001b[39m\u001b[38;5;124mC:\u001b[39m\u001b[38;5;124m\\\u001b[39m\u001b[38;5;124mUsers\u001b[39m\u001b[38;5;124m\\\u001b[39m\u001b[38;5;124mŞeymaÇakmak\u001b[39m\u001b[38;5;124m\\\u001b[39m\u001b[38;5;124mDesktop\u001b[39m\u001b[38;5;124m\\\u001b[39m\u001b[38;5;124mBİL 468\u001b[39m\u001b[38;5;124m\\\u001b[39m\u001b[38;5;124mProject\u001b[39m\u001b[38;5;124m\\\u001b[39m\u001b[38;5;124mProject Code\u001b[39m\u001b[38;5;124m\\\u001b[39m\u001b[38;5;124mDataset\u001b[39m\u001b[38;5;124m\\\u001b[39m\u001b[38;5;124mtest_labels.csv\u001b[39m\u001b[38;5;124m'\u001b[39m\n\u001b[1;32m----> 4\u001b[0m test_features, test_labels \u001b[38;5;241m=\u001b[39m \u001b[43mload_test_data_and_labels\u001b[49m\u001b[43m(\u001b[49m\u001b[43mtest_data_path\u001b[49m\u001b[43m,\u001b[49m\u001b[43m \u001b[49m\u001b[43mtest_labels_path\u001b[49m\u001b[43m)\u001b[49m\n\u001b[0;32m      6\u001b[0m \u001b[38;5;66;03m# Test verilerini HOG özelliklerine dönüştürme\u001b[39;00m\n\u001b[0;32m      7\u001b[0m test_features_hog \u001b[38;5;241m=\u001b[39m preprocess_images(test_features)\n",
      "Input \u001b[1;32mIn [12]\u001b[0m, in \u001b[0;36mload_test_data_and_labels\u001b[1;34m(data_path, labels_path)\u001b[0m\n\u001b[0;32m     17\u001b[0m file_path \u001b[38;5;241m=\u001b[39m os\u001b[38;5;241m.\u001b[39mpath\u001b[38;5;241m.\u001b[39mjoin(data_path, file_name)\n\u001b[0;32m     19\u001b[0m \u001b[38;5;66;03m# Görüntüyü okuma\u001b[39;00m\n\u001b[1;32m---> 20\u001b[0m image \u001b[38;5;241m=\u001b[39m \u001b[43mcv2\u001b[49m\u001b[38;5;241;43m.\u001b[39;49m\u001b[43mimread\u001b[49m\u001b[43m(\u001b[49m\u001b[43mfile_path\u001b[49m\u001b[43m)\u001b[49m\n\u001b[0;32m     22\u001b[0m \u001b[38;5;66;03m# Görüntü yoksa veya geçerli bir boyutta değilse atla\u001b[39;00m\n\u001b[0;32m     23\u001b[0m \u001b[38;5;28;01mif\u001b[39;00m image \u001b[38;5;129;01mis\u001b[39;00m \u001b[38;5;28;01mNone\u001b[39;00m \u001b[38;5;129;01mor\u001b[39;00m image\u001b[38;5;241m.\u001b[39mshape[\u001b[38;5;241m0\u001b[39m] \u001b[38;5;241m!=\u001b[39m \u001b[38;5;241m32\u001b[39m \u001b[38;5;129;01mor\u001b[39;00m image\u001b[38;5;241m.\u001b[39mshape[\u001b[38;5;241m1\u001b[39m] \u001b[38;5;241m!=\u001b[39m \u001b[38;5;241m32\u001b[39m:\n",
      "\u001b[1;31mKeyboardInterrupt\u001b[0m: "
     ]
    }
   ],
   "source": [
    "# Test verilerini ve etiketlerini yükleme\n",
    "test_data_path = r'C:\\Users\\ŞeymaÇakmak\\Desktop\\BİL 468\\Project\\Project Code\\Dataset\\test_data\\test_data'\n",
    "test_labels_path = r'C:\\Users\\ŞeymaÇakmak\\Desktop\\BİL 468\\Project\\Project Code\\Dataset\\test_labels.csv'\n",
    "test_features, test_labels = load_test_data_and_labels(test_data_path, test_labels_path)\n",
    "\n",
    "# Test verilerini HOG özelliklerine dönüştürme\n",
    "test_features_hog = preprocess_images(test_features)\n",
    "\n",
    "# Modelin doğruluğunu değerlendirme\n",
    "test_accuracy_knn = best_knn_model.score(test_features_hog, test_labels)\n",
    "print(\"Test Doğruluğu (KNN):\", test_accuracy_knn)\n",
    "\n",
    "# Confusion matrix oluşturma\n",
    "from sklearn.metrics import confusion_matrix\n",
    "predictions = best_knn_model.predict(test_features_hog)\n",
    "conf_matrix = confusion_matrix(test_labels, predictions)\n",
    "print(\"Confusion Matrix:\")\n",
    "print(conf_matrix)\n"
   ]
  },
  {
   "cell_type": "code",
   "execution_count": null,
   "id": "a89c893b",
   "metadata": {},
   "outputs": [],
   "source": []
  }
 ],
 "metadata": {
  "kernelspec": {
   "display_name": "Python 3 (ipykernel)",
   "language": "python",
   "name": "python3"
  },
  "language_info": {
   "codemirror_mode": {
    "name": "ipython",
    "version": 3
   },
   "file_extension": ".py",
   "mimetype": "text/x-python",
   "name": "python",
   "nbconvert_exporter": "python",
   "pygments_lexer": "ipython3",
   "version": "3.9.12"
  }
 },
 "nbformat": 4,
 "nbformat_minor": 5
}
